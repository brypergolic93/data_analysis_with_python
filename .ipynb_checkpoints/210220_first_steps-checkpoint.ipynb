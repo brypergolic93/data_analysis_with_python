{
 "cells": [
  {
   "cell_type": "markdown",
   "metadata": {},
   "source": [
    "# Data Analysis with Python"
   ]
  },
  {
   "cell_type": "code",
   "execution_count": 67,
   "metadata": {},
   "outputs": [],
   "source": [
    "a_string = ('hello','halli','goodbye')"
   ]
  },
  {
   "cell_type": "code",
   "execution_count": 69,
   "metadata": {},
   "outputs": [
    {
     "name": "stdout",
     "output_type": "stream",
     "text": [
      "The test string halli is in the string.\n"
     ]
    }
   ],
   "source": [
    "test_string = 'halli'\n",
    "\n",
    "\n",
    "if test_string in a_string:\n",
    "    print('The test string {} is in the string.'.format(test_string))\n",
    "else:\n",
    "    print('The test string {} is in not the string.'.format(test_string))"
   ]
  },
  {
   "cell_type": "code",
   "execution_count": 23,
   "metadata": {},
   "outputs": [
    {
     "name": "stdout",
     "output_type": "stream",
     "text": [
      "         **\n",
      "        ****\n",
      "       ******\n",
      "      ********\n",
      "     **********\n",
      "    ************\n",
      "   **************\n",
      "  ****************\n",
      " ******************\n",
      "********************\n",
      " ******************\n",
      "  ****************\n",
      "   **************\n",
      "    ************\n",
      "     **********\n",
      "      ********\n",
      "       ******\n",
      "        ****\n",
      "         **\n"
     ]
    }
   ],
   "source": [
    "\n",
    "line = '*'\n",
    "blank = ' '\n",
    "max_length = 10\n",
    "\n",
    "while len(line) < max_length:\n",
    "    blank_length = max_length - len(line)    \n",
    "    print(blank*blank_length + 2*line)\n",
    "    line += '*'\n",
    "\n",
    "    \n",
    "while len(line) > 0:\n",
    "    blank_length = max_length - len(line)  \n",
    "    print(blank*blank_length + 2*line)\n",
    "\n",
    "    line = line[1:]\n",
    "\n",
    "    \n",
    "\n",
    "    "
   ]
  },
  {
   "cell_type": "code",
   "execution_count": 25,
   "metadata": {},
   "outputs": [
    {
     "name": "stdout",
     "output_type": "stream",
     "text": [
      "M\n",
      "o\n",
      "n\n",
      "d\n",
      "a\n",
      "y\n"
     ]
    }
   ],
   "source": [
    "for char in \"Monday\":\n",
    "    print(char)"
   ]
  },
  {
   "cell_type": "code",
   "execution_count": null,
   "metadata": {},
   "outputs": [],
   "source": []
  }
 ],
 "metadata": {
  "kernelspec": {
   "display_name": "Python 3",
   "language": "python",
   "name": "python3"
  },
  "language_info": {
   "codemirror_mode": {
    "name": "ipython",
    "version": 3
   },
   "file_extension": ".py",
   "mimetype": "text/x-python",
   "name": "python",
   "nbconvert_exporter": "python",
   "pygments_lexer": "ipython3",
   "version": "3.7.6"
  }
 },
 "nbformat": 4,
 "nbformat_minor": 4
}
